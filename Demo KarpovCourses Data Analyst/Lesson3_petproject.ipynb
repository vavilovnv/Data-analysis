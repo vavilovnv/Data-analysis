{
 "cells": [
  {
   "cell_type": "code",
   "execution_count": 2,
   "metadata": {},
   "outputs": [],
   "source": [
    "# условия заданий: https://stepik.org/lesson/375669/step/1?unit=363419\n",
    "\n",
    "# Импортируйте библиотеку pandas как pd. Загрузите два датасета user_data и logs. Проверьте размер таблицы, типы переменных, \n",
    "# посмотрите на описательную статистику. \n",
    "# Вопрос: Сколько уникальных значений принимает переменная platform?\n",
    "\n",
    "import pandas as pd"
   ]
  },
  {
   "cell_type": "code",
   "execution_count": 8,
   "metadata": {},
   "outputs": [],
   "source": [
    "user_data = pd.read_csv('https://stepik.org/media/attachments/lesson/360348/user_data.csv')\n",
    "logs = pd.read_csv('https://stepik.org/media/attachments/lesson/360348/logs.csv')"
   ]
  },
  {
   "cell_type": "code",
   "execution_count": 10,
   "metadata": {},
   "outputs": [
    {
     "data": {
      "text/plain": [
       "3"
      ]
     },
     "execution_count": 10,
     "metadata": {},
     "output_type": "execute_result"
    }
   ],
   "source": [
    "logs.platform.nunique()"
   ]
  },
  {
   "cell_type": "code",
   "execution_count": 65,
   "metadata": {},
   "outputs": [
    {
     "data": {
      "text/plain": [
       "'12179, 28719, 36165, 52870, 61468, 61473, 78349, 82563, 92584'"
      ]
     },
     "execution_count": 65,
     "metadata": {},
     "output_type": "execute_result"
    }
   ],
   "source": [
    "# Какой клиент совершил больше всего успешных операций?\n",
    "# Если несколько пользователей совершили одинаковое число успешных действий, перечислите их идентификаторы (client) через \n",
    "# запятую и пробел в порядке возрастания. Например:\n",
    "# 12, 123, 456\n",
    "\n",
    "success_operations = (logs.groupby('client', as_index = False)\n",
    "                         .agg({'success': 'sum'})\n",
    "                         .rename(columns = {'success': 'success_counts'}))\n",
    "max_operations = success_operations.success_counts.max()\n",
    "clients_list = (success_operations.query(f'success_counts == {max_operations}')\n",
    "                    .sort_values('client')).client.to_list()\n",
    "', '.join([str(client) for client in clients_list])"
   ]
  },
  {
   "cell_type": "code",
   "execution_count": 81,
   "metadata": {},
   "outputs": [
    {
     "data": {
      "text/plain": [
       "success    phone\n",
       "dtype: object"
      ]
     },
     "execution_count": 81,
     "metadata": {},
     "output_type": "execute_result"
    }
   ],
   "source": [
    "# С какой платформы осуществляется наибольшее количество успешных операций?\n",
    "\n",
    "logs.groupby('platform').agg({'success': 'sum'}).idxmax()"
   ]
  },
  {
   "cell_type": "code",
   "execution_count": 98,
   "metadata": {},
   "outputs": [
    {
     "data": {
      "text/plain": [
       "'phone'"
      ]
     },
     "execution_count": 98,
     "metadata": {},
     "output_type": "execute_result"
    }
   ],
   "source": [
    "# Какую платформу предпочитают премиумные клиенты?\n",
    "\n",
    "(user_data.query('premium')\n",
    "         .merge(logs, on = 'client')\n",
    "         .value_counts('platform')).idxmax()"
   ]
  },
  {
   "cell_type": "code",
   "execution_count": null,
   "metadata": {},
   "outputs": [],
   "source": []
  }
 ],
 "metadata": {
  "kernelspec": {
   "display_name": "Python 3",
   "language": "python",
   "name": "python3"
  },
  "language_info": {
   "codemirror_mode": {
    "name": "ipython",
    "version": 3
   },
   "file_extension": ".py",
   "mimetype": "text/x-python",
   "name": "python",
   "nbconvert_exporter": "python",
   "pygments_lexer": "ipython3",
   "version": "3.8.5"
  }
 },
 "nbformat": 4,
 "nbformat_minor": 4
}
