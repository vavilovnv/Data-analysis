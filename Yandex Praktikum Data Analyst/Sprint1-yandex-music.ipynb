{
 "cells": [
  {
   "cell_type": "markdown",
   "metadata": {},
   "source": [
    "# Яндекс Практикум. Курс \"Аналитик данных\". Спринт 1\n",
    "\n",
    "## Постановка задачи\n",
    "Решим задачу из реальной практики сервиса Яндекс.Музыка: исследовать предпочтения пользователей и ответить на вопрос, целесообразна ли интеграция двух сервисов — Музыки и Радио."
   ]
  },
  {
   "cell_type": "code",
   "execution_count": null,
   "metadata": {},
   "outputs": [],
   "source": []
  },
  {
   "cell_type": "markdown",
   "metadata": {},
   "source": [
    "Получите доступ к библиотеке Pandas, используйте имя переменной pd."
   ]
  },
  {
   "cell_type": "code",
   "execution_count": 1,
   "metadata": {},
   "outputs": [],
   "source": [
    "import pandas as pd"
   ]
  },
  {
   "cell_type": "markdown",
   "metadata": {},
   "source": [
    "Создайте список `music` с 5 парами «имя вашего любимого исполнителя - название его песни». Пример такого списка - `atlas` из теоретического введения к этому уроку."
   ]
  },
  {
   "cell_type": "code",
   "execution_count": 2,
   "metadata": {},
   "outputs": [],
   "source": [
    "music = [\n",
    "    ['Исполнитель1', 'Песня1'],\n",
    "    ['Исполнитель2', 'Песня2'],\n",
    "    ['Исполнитель3', 'Песня3'],\n",
    "    ['Исполнитель4', 'Песня4'],\n",
    "    ['Исполнитель5', 'Песня5'],\n",
    "]"
   ]
  },
  {
   "cell_type": "markdown",
   "metadata": {},
   "source": [
    "Создайте список `entries` с названиями для двух столбцов — `artist` и `track` (здесь эти английские слова употребляются в значении «исполнитель» и «композиция»)."
   ]
  },
  {
   "cell_type": "code",
   "execution_count": 3,
   "metadata": {},
   "outputs": [],
   "source": [
    "entries = ['artist', 'track']"
   ]
  },
  {
   "cell_type": "markdown",
   "metadata": {},
   "source": [
    "Используя конструктор `DataFrame()`, создайте таблицу из списка ваших любимых исполнителей `music` и списка столбцов `entries`. Сохраните таблицу в переменной `playlist` и выведите эту сборную таблицу на экран."
   ]
  },
  {
   "cell_type": "code",
   "execution_count": 4,
   "metadata": {},
   "outputs": [
    {
     "name": "stdout",
     "output_type": "stream",
     "text": [
      "         artist   track\n",
      "0  Исполнитель1  Песня1\n",
      "1  Исполнитель2  Песня2\n",
      "2  Исполнитель3  Песня3\n",
      "3  Исполнитель4  Песня4\n",
      "4  Исполнитель5  Песня5\n"
     ]
    }
   ],
   "source": [
    "playlist = pd.DataFrame(data=music, columns=entries)\n",
    "print(playlist)"
   ]
  },
  {
   "cell_type": "markdown",
   "metadata": {},
   "source": [
    "Прочитайте файл music_log.csv и сохраните его в переменной `df`. Сохраните первые 5 строк с данными из music_log.csv в переменной `music_head` и выведите значение переменной на экран."
   ]
  },
  {
   "cell_type": "code",
   "execution_count": 5,
   "metadata": {},
   "outputs": [
    {
     "name": "stdout",
     "output_type": "stream",
     "text": [
      "       user_id   total play        Artist    genre                      track\n",
      "0     BF6EA5AF    92.851388    Marina Rei      pop                     Musica\n",
      "1     FB1E568E   282.981000  Stive Morgan  ambient                Love Planet\n",
      "2     FB1E568E   282.981000  Stive Morgan  ambient                Love Planet\n",
      "3     EF15C7BA     8.966000           NaN      NaN  dance.Loving Every Minute\n",
      "4     82F52E69   193.776300        Rixton      pop     Me And My Broken Heart\n"
     ]
    }
   ],
   "source": [
    "df = pd.read_csv('.\\Datasets\\music_log.csv')\n",
    "music_head = df.head()\n",
    "print(music_head)"
   ]
  },
  {
   "cell_type": "markdown",
   "metadata": {},
   "source": [
    "Сохраните последние 10 строк с данными из music_log.csv в переменной `music_tail` и выведите значение переменной на экран."
   ]
  },
  {
   "cell_type": "code",
   "execution_count": 6,
   "metadata": {},
   "outputs": [
    {
     "name": "stdout",
     "output_type": "stream",
     "text": [
      "        user_id   total play                 Artist         genre  \\\n",
      "4      82F52E69     193.7763                 Rixton           pop   \n",
      "5      82F52E66     197.7763              RixtonPal   электроника   \n",
      "6      82F52E36     237.7763              RixtonPal    electronic   \n",
      "7      4166D680       3.0070             Henry Hall          jazz   \n",
      "8       F4F5677       0.1000                    NaN  classicmetal   \n",
      "9      386FE1ED     211.8800                    NaN    electronic   \n",
      "10     A5E0D927       3.1610  Andrew Paul Woodworth           pop   \n",
      "11     E9GH765F       5.8780           Pillar point          rock   \n",
      "12     D3GH6V55       8.8560          Steve Campbek          rock   \n",
      "13     576GF8S7       0.0000           David Guetta           pop   \n",
      "\n",
      "                     track  \n",
      "4   Me And My Broken Heart  \n",
      "5                 Megustos  \n",
      "6                 Megabass  \n",
      "7                     Home  \n",
      "8                      NaN  \n",
      "9                  Riviera  \n",
      "10  Inthe name of the game  \n",
      "11                    Dove  \n",
      "12             Morning Due  \n",
      "13                 Bye bye  \n"
     ]
    }
   ],
   "source": [
    "music_tail = df.tail(10)\n",
    "print(music_tail)"
   ]
  },
  {
   "cell_type": "markdown",
   "metadata": {},
   "source": [
    "Создайте переменную `shape_table` и сохраните в ней размеры таблицы music_log.csv. Напечатайте на экране размер таблицы в таком виде:\n",
    "Размер таблицы: ..."
   ]
  },
  {
   "cell_type": "code",
   "execution_count": 7,
   "metadata": {},
   "outputs": [
    {
     "name": "stdout",
     "output_type": "stream",
     "text": [
      "Размер таблицы: (14, 5)\n"
     ]
    }
   ],
   "source": [
    "shape_table = df.shape\n",
    "print(f'Размер таблицы: {shape_table}')"
   ]
  },
  {
   "cell_type": "markdown",
   "metadata": {},
   "source": [
    "Сколько наблюдений в наборе данных? В переменной `shape_table` хранится кортеж. Его первый элемент — количество наблюдений, который надо сохранить в переменной `observations_table` (не забывайте, что индексация элементов идёт с 0). Напечатайте на экране ответ в таком виде:\n",
    "Количество наблюдений: ..."
   ]
  },
  {
   "cell_type": "code",
   "execution_count": 8,
   "metadata": {},
   "outputs": [
    {
     "name": "stdout",
     "output_type": "stream",
     "text": [
      "Количество наблюдений: 14\n"
     ]
    }
   ],
   "source": [
    "observations_table = shape_table[0]\n",
    "print(f'Количество наблюдений: {observations_table}')"
   ]
  },
  {
   "cell_type": "markdown",
   "metadata": {},
   "source": [
    "Найдите в информации, которую вернул метод `info()`, число наблюдений. Вручную присвойте это число как значение переменной `observations_info_table`."
   ]
  },
  {
   "cell_type": "code",
   "execution_count": 9,
   "metadata": {},
   "outputs": [
    {
     "name": "stdout",
     "output_type": "stream",
     "text": [
      "<class 'pandas.core.frame.DataFrame'>\n",
      "RangeIndex: 14 entries, 0 to 13\n",
      "Data columns (total 5 columns):\n",
      " #   Column        Non-Null Count  Dtype  \n",
      "---  ------        --------------  -----  \n",
      " 0        user_id  14 non-null     object \n",
      " 1    total play   14 non-null     float64\n",
      " 2    Artist       11 non-null     object \n",
      " 3    genre        13 non-null     object \n",
      " 4    track        13 non-null     object \n",
      "dtypes: float64(1), object(4)\n",
      "memory usage: 688.0+ bytes\n"
     ]
    }
   ],
   "source": [
    "df.info()"
   ]
  },
  {
   "cell_type": "code",
   "execution_count": 10,
   "metadata": {},
   "outputs": [],
   "source": [
    "observations_info_table = 67963 "
   ]
  },
  {
   "cell_type": "markdown",
   "metadata": {},
   "source": [
    "Вы ещё не запутались? Давайте осмотримся и заодно вспомним условные конструкции.\n",
    "Поскольку в ходе работы аналитик объявляет разные переменные и сохраняет в них добытую разными способами информацию, запутаться очень легко. Именно поэтому необходимо проверять себя и текущие результаты. Сравните полученные результаты в переменных `observations_info_table` и `observations_table`. Если значения переменных совпадают, то выведите количество наблюдений и сообщение:  \n",
    "```\n",
    "'Решение верно, количество наблюдений равно', observations_table  \n",
    "```\n",
    "Если значения переменных не совпадают, то выведите сообщение:\n",
    "```\n",
    "'Решение неверно, проверьте ещё раз!' \n",
    "```"
   ]
  },
  {
   "cell_type": "code",
   "execution_count": 11,
   "metadata": {},
   "outputs": [
    {
     "name": "stdout",
     "output_type": "stream",
     "text": [
      "Решение неверно, проверьте ещё раз!\n"
     ]
    }
   ],
   "source": [
    "if observations_info_table == observations_table:\n",
    "    print('Решение верно, количество наблюдений равно', observations_table)\n",
    "else:\n",
    "    print('Решение неверно, проверьте ещё раз!')"
   ]
  },
  {
   "cell_type": "markdown",
   "metadata": {},
   "source": [
    "Получите таблицу, состоящую из столбцов genre и Artist. Сохраните её в переменной `genre_fight`."
   ]
  },
  {
   "cell_type": "code",
   "execution_count": 12,
   "metadata": {},
   "outputs": [
    {
     "data": {
      "text/html": [
       "<div>\n",
       "<style scoped>\n",
       "    .dataframe tbody tr th:only-of-type {\n",
       "        vertical-align: middle;\n",
       "    }\n",
       "\n",
       "    .dataframe tbody tr th {\n",
       "        vertical-align: top;\n",
       "    }\n",
       "\n",
       "    .dataframe thead th {\n",
       "        text-align: right;\n",
       "    }\n",
       "</style>\n",
       "<table border=\"1\" class=\"dataframe\">\n",
       "  <thead>\n",
       "    <tr style=\"text-align: right;\">\n",
       "      <th></th>\n",
       "      <th>genre</th>\n",
       "      <th>Artist</th>\n",
       "    </tr>\n",
       "  </thead>\n",
       "  <tbody>\n",
       "    <tr>\n",
       "      <th>0</th>\n",
       "      <td>pop</td>\n",
       "      <td>Marina Rei</td>\n",
       "    </tr>\n",
       "    <tr>\n",
       "      <th>1</th>\n",
       "      <td>ambient</td>\n",
       "      <td>Stive Morgan</td>\n",
       "    </tr>\n",
       "    <tr>\n",
       "      <th>2</th>\n",
       "      <td>ambient</td>\n",
       "      <td>Stive Morgan</td>\n",
       "    </tr>\n",
       "    <tr>\n",
       "      <th>3</th>\n",
       "      <td>NaN</td>\n",
       "      <td>NaN</td>\n",
       "    </tr>\n",
       "    <tr>\n",
       "      <th>4</th>\n",
       "      <td>pop</td>\n",
       "      <td>Rixton</td>\n",
       "    </tr>\n",
       "  </tbody>\n",
       "</table>\n",
       "</div>"
      ],
      "text/plain": [
       "     genre        Artist\n",
       "0      pop    Marina Rei\n",
       "1  ambient  Stive Morgan\n",
       "2  ambient  Stive Morgan\n",
       "3      NaN           NaN\n",
       "4      pop        Rixton"
      ]
     },
     "execution_count": 12,
     "metadata": {},
     "output_type": "execute_result"
    }
   ],
   "source": [
    "genre_fight = df.loc[:,[' genre', ' Artist']]\n",
    "genre_fight.head()"
   ]
  },
  {
   "cell_type": "markdown",
   "metadata": {},
   "source": [
    "Посчитайте число прослушанных треков в жанре поп. Для этого лучше всего использовать логическое условие `genre_fight['genre'] == 'pop'`. Сохраните результат в переменной `genre_pop`. Напечатайте ответ на экране в таком виде:\n",
    "Число прослушанных треков в жанре поп равно ..."
   ]
  },
  {
   "cell_type": "code",
   "execution_count": 13,
   "metadata": {},
   "outputs": [
    {
     "name": "stdout",
     "output_type": "stream",
     "text": [
      "Число прослушанных треков в жанре поп равно 4\n"
     ]
    }
   ],
   "source": [
    "genre_pop = genre_fight.loc[genre_fight[' genre'] == 'pop'].count()[0]\n",
    "print('Число прослушанных треков в жанре поп равно', genre_pop)"
   ]
  },
  {
   "cell_type": "markdown",
   "metadata": {},
   "source": [
    "Теперь посчитайте число прослушанных треков в жанре рок. Допишите в код подсчёт, похожий на предыдущий, только с логическим условием `genre_fight['genre'] == 'rock'`. Сохраните результат в переменной `genre_rock`. Напечатайте ответ на экране в таком виде:\n",
    "Число прослушанных треков в жанре рок равно ..."
   ]
  },
  {
   "cell_type": "code",
   "execution_count": 14,
   "metadata": {},
   "outputs": [
    {
     "name": "stdout",
     "output_type": "stream",
     "text": [
      "Число прослушанных треков в жанре рок равно 2\n"
     ]
    }
   ],
   "source": [
    "genre_rock = genre_fight.loc[genre_fight[' genre'] == 'rock'].count()[0]\n",
    "print('Число прослушанных треков в жанре рок равно', genre_rock)"
   ]
  },
  {
   "cell_type": "markdown",
   "metadata": {},
   "source": [
    "Напишите условную конструкцию, которая сравнивает полученные значения и выводит информацию о победителе в этом бою! Если победил жанр рок, то выведите сообщение \"Рок победил!\", а если победил жанр поп - сообщение \"Попса forever!\"\n",
    "Не удаляйте вывод числа прослушанных треков в жанрах поп и рок."
   ]
  },
  {
   "cell_type": "code",
   "execution_count": 15,
   "metadata": {},
   "outputs": [
    {
     "name": "stdout",
     "output_type": "stream",
     "text": [
      "Попса forever!\n"
     ]
    }
   ],
   "source": [
    "if genre_pop > genre_rock:\n",
    "    print('Попса forever!')\n",
    "else:\n",
    "    print('Рок победил!')"
   ]
  },
  {
   "cell_type": "markdown",
   "metadata": {},
   "source": [
    "Получите таблицу только с жанром rock и сохраните её в переменной rock."
   ]
  },
  {
   "cell_type": "code",
   "execution_count": 16,
   "metadata": {},
   "outputs": [],
   "source": [
    "rock = df.loc[df[' genre'] == 'rock']"
   ]
  },
  {
   "cell_type": "markdown",
   "metadata": {},
   "source": [
    "Выделим время прослушивания роковых композиций в особую структуру данных. Сохраните столбец 'total play' таблицы rock в переменной `rock_time`."
   ]
  },
  {
   "cell_type": "code",
   "execution_count": 17,
   "metadata": {},
   "outputs": [],
   "source": [
    "rock_time = rock[' total play']"
   ]
  },
  {
   "cell_type": "markdown",
   "metadata": {},
   "source": [
    "Обратитесь к новой Series c именем `rock_time` и посчитайте количество треков жанра рок, пропущенных в течение 5 секунд. Логическим условием укажите `rock_time <= 5`. Результат сохраните в переменной `rock_haters` и напечатайте на экране с пояснением:\n",
    "Количество пропущенных треков жанра рок равно ..."
   ]
  },
  {
   "cell_type": "code",
   "execution_count": 18,
   "metadata": {},
   "outputs": [
    {
     "name": "stdout",
     "output_type": "stream",
     "text": [
      "Количество пропущенных треков жанра рок равно 0\n"
     ]
    }
   ],
   "source": [
    "rock_haters = rock_time.loc[rock_time<=5].count()\n",
    "print('Количество пропущенных треков жанра рок равно', rock_haters)"
   ]
  },
  {
   "cell_type": "markdown",
   "metadata": {},
   "source": [
    "Выберите из исходной таблицы только строки с жанром 'pop' и сохраните эту новую таблицу в переменной pop.\n",
    "Вывод результата предыдущей задачи закомментируйте."
   ]
  },
  {
   "cell_type": "code",
   "execution_count": 19,
   "metadata": {},
   "outputs": [],
   "source": [
    "pop = df.loc[df[' genre'] == 'pop']"
   ]
  },
  {
   "cell_type": "markdown",
   "metadata": {},
   "source": [
    "\n",
    "Теперь по аналогии с роком создайте Series, где хранятся только данные о времени воспроизведения композиций в жанре поп. Назовите его `pop_time` и сохраните в нём данные столбца 'total play' из таблицы pop ."
   ]
  },
  {
   "cell_type": "code",
   "execution_count": 20,
   "metadata": {},
   "outputs": [],
   "source": [
    "pop_time = pop[' total play']"
   ]
  },
  {
   "cell_type": "markdown",
   "metadata": {},
   "source": [
    "Снова по аналогии с роком обратитесь к Series, на сей раз `pop_time`, чтобы посчитать количество пропущенных в течение 5 секунд треков жанра поп. Используйте условие `pop_time <= 5`. Результат сохраните в переменной `pop_haters` и напечатайте на экране в таком виде:\n",
    "Количество пропущенных треков жанра поп равно ...\n",
    "Вывод данных о роке закомментируйте."
   ]
  },
  {
   "cell_type": "code",
   "execution_count": 21,
   "metadata": {},
   "outputs": [
    {
     "name": "stdout",
     "output_type": "stream",
     "text": [
      "Количество пропущенных треков жанра поп равно 2\n"
     ]
    }
   ],
   "source": [
    "pop_haters = pop_time.loc[pop_time<=5].count()\n",
    "print('Количество пропущенных треков жанра поп равно', pop_haters)"
   ]
  },
  {
   "cell_type": "markdown",
   "metadata": {},
   "source": [
    "Для обоих жанров посчитайте долю быстро пропущенных пользователями композиций в процентах. Разделите количество треков, которые пользователи пропустили — соответственно `rock_haters` и `pop_haters` — на общее количество треков жанра рок и жанра поп.\n",
    "Общее количество треков жанра равно количеству наблюдений в таблицах rock и pop, т.е. значению атрибута `shape[0]` этих таблиц.\n",
    "Результаты сохраните в переменных `rock_skip` и `pop_skip`. Выведите значения новых переменных в процентах с точностью до одного знака после запятой в такой форме:\n",
    "Доля пропущенных композиций жанра рок равна: ...\n",
    "Доля пропущенных композиций жанра поп равна: ... \n",
    "Вывод результата предыдущей задачи закомментируйте."
   ]
  },
  {
   "cell_type": "code",
   "execution_count": 22,
   "metadata": {},
   "outputs": [
    {
     "name": "stdout",
     "output_type": "stream",
     "text": [
      "Доля пропущенных композиций жанра рок равна: 0.0%\n",
      "Доля пропущенных композиций жанра поп равна: 50.0%\n"
     ]
    }
   ],
   "source": [
    "rock_skip = rock_haters / rock.shape[0] \n",
    "pop_skip = pop_haters / pop.shape[0] \n",
    "\n",
    "print('Доля пропущенных композиций жанра рок равна: {:.1%}'.format(rock_skip))\n",
    "print('Доля пропущенных композиций жанра поп равна: {:.1%}'.format(pop_skip))"
   ]
  },
  {
   "cell_type": "markdown",
   "metadata": {},
   "source": [
    "Выведите список столбцов."
   ]
  },
  {
   "cell_type": "code",
   "execution_count": 23,
   "metadata": {},
   "outputs": [
    {
     "name": "stdout",
     "output_type": "stream",
     "text": [
      "Index(['     user_id', ' total play', ' Artist', ' genre', ' track'], dtype='object')\n"
     ]
    }
   ],
   "source": [
    "print(df.columns)"
   ]
  },
  {
   "cell_type": "markdown",
   "metadata": {},
   "source": [
    "Подготовьте список `new_names` с новыми именами для столбцов.\n",
    "user_id → user_id\n",
    "total play → total_play_seconds\n",
    "Artist → artist_name\n",
    "genre → genre_name\n",
    "track → track_name"
   ]
  },
  {
   "cell_type": "code",
   "execution_count": 24,
   "metadata": {},
   "outputs": [],
   "source": [
    "new_names = ['user_id', 'total_play_seconds', 'artist_name', 'genre_name', 'track_name']"
   ]
  },
  {
   "cell_type": "markdown",
   "metadata": {},
   "source": [
    "Переименуем столбцы таблицы, которая хранится в переменной `df`.\n",
    "Вызовите метод `set_axis()` и передайте ему список `new_names`, а значением аргумента `inplace` установите **True**."
   ]
  },
  {
   "cell_type": "code",
   "execution_count": 25,
   "metadata": {},
   "outputs": [],
   "source": [
    "df.set_axis(new_names, axis='columns', inplace=True)"
   ]
  },
  {
   "cell_type": "markdown",
   "metadata": {},
   "source": [
    "Проверьте, что получилось, запросив для нашей структуры данных `df` атрибут `columns`."
   ]
  },
  {
   "cell_type": "code",
   "execution_count": 26,
   "metadata": {},
   "outputs": [
    {
     "name": "stdout",
     "output_type": "stream",
     "text": [
      "Index(['user_id', 'total_play_seconds', 'artist_name', 'genre_name',\n",
      "       'track_name'],\n",
      "      dtype='object')\n"
     ]
    }
   ],
   "source": [
    "print(df.columns)"
   ]
  },
  {
   "cell_type": "markdown",
   "metadata": {},
   "source": [
    "Посчитайте количество пропущенных значений и выведите его на экран."
   ]
  },
  {
   "cell_type": "code",
   "execution_count": 27,
   "metadata": {},
   "outputs": [
    {
     "name": "stdout",
     "output_type": "stream",
     "text": [
      "user_id               0\n",
      "total_play_seconds    0\n",
      "artist_name           3\n",
      "genre_name            1\n",
      "track_name            1\n",
      "dtype: int64\n"
     ]
    }
   ],
   "source": [
    "print(df.isnull().sum())"
   ]
  },
  {
   "cell_type": "markdown",
   "metadata": {},
   "source": [
    "Для решения поставленной менеджером задачи важно сохранить содержание столбца 'genre_name'. Если по какой-то причине имя исполнителя и название трека оказались упущены, а жанр композиции известен, эту строку надо сберечь.\n",
    "Заполните отсутствующие значения столбца 'track_name' строкой 'unknown'."
   ]
  },
  {
   "cell_type": "code",
   "execution_count": 28,
   "metadata": {},
   "outputs": [],
   "source": [
    "df.track_name = df.track_name.fillna('unknown')"
   ]
  },
  {
   "cell_type": "markdown",
   "metadata": {},
   "source": [
    "Заполните отсутствующие значения столбца 'artist_name' словом unknown."
   ]
  },
  {
   "cell_type": "code",
   "execution_count": 29,
   "metadata": {},
   "outputs": [],
   "source": [
    "df.artist_name = df.artist_name.fillna('unknown')"
   ]
  },
  {
   "cell_type": "markdown",
   "metadata": {},
   "source": [
    "Удалите пропущенные значения из столбца 'genre_name'."
   ]
  },
  {
   "cell_type": "code",
   "execution_count": 30,
   "metadata": {},
   "outputs": [],
   "source": [
    "df.dropna(subset = ['genre_name'], inplace=True)"
   ]
  },
  {
   "cell_type": "markdown",
   "metadata": {},
   "source": [
    "Проверьте полученный результат. Просмотрите информацию о наборе данных: воспользуйтесь методом `info()`"
   ]
  },
  {
   "cell_type": "code",
   "execution_count": 31,
   "metadata": {},
   "outputs": [
    {
     "name": "stdout",
     "output_type": "stream",
     "text": [
      "<class 'pandas.core.frame.DataFrame'>\n",
      "Int64Index: 13 entries, 0 to 13\n",
      "Data columns (total 5 columns):\n",
      " #   Column              Non-Null Count  Dtype  \n",
      "---  ------              --------------  -----  \n",
      " 0   user_id             13 non-null     object \n",
      " 1   total_play_seconds  13 non-null     float64\n",
      " 2   artist_name         13 non-null     object \n",
      " 3   genre_name          13 non-null     object \n",
      " 4   track_name          13 non-null     object \n",
      "dtypes: float64(1), object(4)\n",
      "memory usage: 624.0+ bytes\n"
     ]
    }
   ],
   "source": [
    "df.info()"
   ]
  },
  {
   "cell_type": "markdown",
   "metadata": {},
   "source": [
    "Сохраните текущий размер таблицы в переменной `shape_table`"
   ]
  },
  {
   "cell_type": "code",
   "execution_count": 32,
   "metadata": {},
   "outputs": [],
   "source": [
    "shape_table = df.shape"
   ]
  },
  {
   "cell_type": "markdown",
   "metadata": {},
   "source": [
    "Посчитайте и выведите на экран суммарное количество дубликатов в таблице."
   ]
  },
  {
   "cell_type": "code",
   "execution_count": 33,
   "metadata": {},
   "outputs": [
    {
     "name": "stdout",
     "output_type": "stream",
     "text": [
      "1\n"
     ]
    }
   ],
   "source": [
    "print(df.duplicated().sum())"
   ]
  },
  {
   "cell_type": "markdown",
   "metadata": {},
   "source": [
    "Удалите дубликаты. Используйте метод `reset_index()` для сохранения порядка индексов."
   ]
  },
  {
   "cell_type": "code",
   "execution_count": 34,
   "metadata": {},
   "outputs": [],
   "source": [
    "df = df.drop_duplicates().reset_index(drop=True)"
   ]
  },
  {
   "cell_type": "markdown",
   "metadata": {},
   "source": [
    "Сохраните в переменную `shape_table_update` размер таблицы после удаления дубликатов."
   ]
  },
  {
   "cell_type": "code",
   "execution_count": 35,
   "metadata": {},
   "outputs": [],
   "source": [
    "shape_table_update = df.shape"
   ]
  },
  {
   "cell_type": "markdown",
   "metadata": {},
   "source": [
    "Сравните переменные `shape_table` и `shape_table_update`. Если они равны, выведите сообщение 'Размер таблицы не изменился, текущий размер: ' и значение переменной `shape_table_update`.\n",
    "В ином случае сообщение должно быть таким: 'Таблица уменьшилась, текущий размер:' и значение переменной `shape_table_update`."
   ]
  },
  {
   "cell_type": "code",
   "execution_count": 36,
   "metadata": {},
   "outputs": [
    {
     "name": "stdout",
     "output_type": "stream",
     "text": [
      "Таблица уменьшилась, текущий размер: (12, 5)\n"
     ]
    }
   ],
   "source": [
    "if shape_table == shape_table_update:\n",
    "    print('Размер таблицы не изменился, текущий размер:', shape_table_update)\n",
    "else:\n",
    "    print('Таблица уменьшилась, текущий размер:', shape_table_update)"
   ]
  },
  {
   "cell_type": "markdown",
   "metadata": {},
   "source": [
    "Получите уникальные значения столбца 'genre_name', используйте метод `unique()`. Просмотрите результат и найдите название жанра, которое выпадает из общего ряда."
   ]
  },
  {
   "cell_type": "code",
   "execution_count": 37,
   "metadata": {},
   "outputs": [
    {
     "name": "stdout",
     "output_type": "stream",
     "text": [
      "['pop' 'ambient' 'электроника' 'electronic' 'jazz' 'classicmetal' 'rock']\n"
     ]
    }
   ],
   "source": [
    "print(df.genre_name.unique())"
   ]
  },
  {
   "cell_type": "markdown",
   "metadata": {},
   "source": [
    "В столбце 'genre_name' замените значение 'электроника' на 'electronic' ."
   ]
  },
  {
   "cell_type": "code",
   "execution_count": 38,
   "metadata": {},
   "outputs": [],
   "source": [
    "df.genre_name = df.genre_name.replace('электроника', 'electronic')"
   ]
  },
  {
   "cell_type": "markdown",
   "metadata": {},
   "source": [
    "Оцените изменения: пересчитайте количество значений 'электроника' в столбце 'genre_name'. Если удалось всё заменить, результат должен быть равен 0. Сохраните этот результат в переменной `genre_final_count`, выведите на экран."
   ]
  },
  {
   "cell_type": "code",
   "execution_count": 39,
   "metadata": {},
   "outputs": [
    {
     "name": "stdout",
     "output_type": "stream",
     "text": [
      "0\n"
     ]
    }
   ],
   "source": [
    "genre_final_count = df.genre_name[df.genre_name == 'электроника'].count()\n",
    "print(genre_final_count)"
   ]
  },
  {
   "cell_type": "markdown",
   "metadata": {},
   "source": []
  },
  {
   "cell_type": "markdown",
   "metadata": {},
   "source": [
    "Прочитайте данные из файла music_log_upd.csv и выведите первые 10 строк.\n",
    "music_log_upd.csv — обновлённый файл с данными, которые прошли предобработку в предыдущей теме."
   ]
  },
  {
   "cell_type": "code",
   "execution_count": 43,
   "metadata": {},
   "outputs": [
    {
     "name": "stdout",
     "output_type": "stream",
     "text": [
      "       user_id   total play        Artist         genre  \\\n",
      "0     BF6EA5AF    92.851388    Marina Rei           pop   \n",
      "1     FB1E568E   282.981000  Stive Morgan       ambient   \n",
      "2     FB1E568E   282.981000  Stive Morgan       ambient   \n",
      "3     EF15C7BA     8.966000           NaN           NaN   \n",
      "4     82F52E69   193.776300        Rixton           pop   \n",
      "5     82F52E66   197.776300     RixtonPal   электроника   \n",
      "6     82F52E36   237.776300     RixtonPal    electronic   \n",
      "7     4166D680     3.007000    Henry Hall          jazz   \n",
      "8      F4F5677     0.100000           NaN  classicmetal   \n",
      "9     386FE1ED   211.880000           NaN    electronic   \n",
      "\n",
      "                       track  \n",
      "0                     Musica  \n",
      "1                Love Planet  \n",
      "2                Love Planet  \n",
      "3  dance.Loving Every Minute  \n",
      "4     Me And My Broken Heart  \n",
      "5                   Megustos  \n",
      "6                   Megabass  \n",
      "7                       Home  \n",
      "8                        NaN  \n",
      "9                    Riviera  \n"
     ]
    }
   ],
   "source": [
    "df = pd.read_csv('.\\Datasets\\music_log_upd.csv')\n",
    "print(df.head(10))"
   ]
  },
  {
   "cell_type": "markdown",
   "metadata": {},
   "source": [
    "Получите список названий столбцов, запросив атрибут columns. Результат выведите на экран."
   ]
  },
  {
   "cell_type": "code",
   "execution_count": 44,
   "metadata": {},
   "outputs": [
    {
     "name": "stdout",
     "output_type": "stream",
     "text": [
      "Index(['     user_id', ' total play', ' Artist', ' genre', ' track'], dtype='object')\n"
     ]
    }
   ],
   "source": [
    "print(df.columns)"
   ]
  },
  {
   "cell_type": "markdown",
   "metadata": {},
   "source": [
    "Приведем названия колонок в порядок"
   ]
  },
  {
   "cell_type": "code",
   "execution_count": 52,
   "metadata": {},
   "outputs": [],
   "source": [
    "new_names = ['user_id', 'total_play_seconds', 'artist_name', 'genre_name', 'track_name']\n",
    "df.set_axis(new_names, axis='columns', inplace=True)"
   ]
  },
  {
   "cell_type": "markdown",
   "metadata": {},
   "source": [
    "Посчитайте количество пустых значений в наборе данных, сохраните результат в переменной `na_number`. Выведите её значение на экран."
   ]
  },
  {
   "cell_type": "code",
   "execution_count": 45,
   "metadata": {},
   "outputs": [
    {
     "name": "stdout",
     "output_type": "stream",
     "text": [
      "     user_id    0\n",
      " total play     0\n",
      " Artist         3\n",
      " genre          1\n",
      " track          1\n",
      "dtype: int64\n"
     ]
    }
   ],
   "source": [
    "na_number = df.isna().sum()\n",
    "print(na_number)"
   ]
  },
  {
   "cell_type": "markdown",
   "metadata": {},
   "source": [
    "Посчитайте количество дубликатов в наборе данных, сохраните результат в переменной `duplicated_number`. Выведите её значение на экран."
   ]
  },
  {
   "cell_type": "code",
   "execution_count": 46,
   "metadata": {},
   "outputs": [
    {
     "name": "stdout",
     "output_type": "stream",
     "text": [
      "1\n"
     ]
    }
   ],
   "source": [
    "duplicated_number = df.duplicated().sum()\n",
    "print(duplicated_number)"
   ]
  },
  {
   "cell_type": "markdown",
   "metadata": {},
   "source": [
    "Меломаны у нас есть. Сейчас узнаем идентификатор user_id одного из них. Для этого сгруппируем данные по каждому пользователю, чтобы собрать жанры прослушанных им композиций.\n",
    "Сгруппируйте DataFrame по столбцу user_id, сохраните полученный результат в переменной `genre_grouping`.\n",
    "Посчитайте количество жанров, которые выбрали пользователи, методом `count()`, указав, что выбираем один столбец genre_name. Сохраните результат в переменной `genre_counting` и выведите первые 30 строк этой таблицы."
   ]
  },
  {
   "cell_type": "code",
   "execution_count": 53,
   "metadata": {},
   "outputs": [
    {
     "name": "stdout",
     "output_type": "stream",
     "text": [
      "user_id\n",
      "386FE1ED    1\n",
      "4166D680    1\n",
      "576GF8S7    1\n",
      "82F52E36    1\n",
      "82F52E66    1\n",
      "82F52E69    1\n",
      "82F52X66    1\n",
      "A5E0D927    1\n",
      "A5E1D927    1\n",
      "BF6EA5AF    1\n",
      "D3GH6V55    1\n",
      "E9GH765F    1\n",
      "EF15C7BA    0\n",
      "F4D5677     1\n",
      "F4F5677     1\n",
      "FB1E568E    2\n",
      "Name: genre_name, dtype: int64\n"
     ]
    }
   ],
   "source": [
    "genre_grouping = df.groupby('user_id')\n",
    "genre_counting = genre_grouping.genre_name.count()\n",
    "print(genre_counting.head(30))"
   ]
  },
  {
   "cell_type": "markdown",
   "metadata": {},
   "source": [
    "Быть может, те, кто за день слушает больше 50 песен, имеют более широкие предпочтения. Чтобы найти такого, изготовим универсальный инструмент.\n",
    "Напишите функцию `user_genres`, которая принимает некую группировку как свой аргумент group. Функция должна перебирать группы, входящие в эту группировку.\n",
    "В каждой группе два элемента — имя группы с индексом 0 и список значений с индексом 1.\n",
    "Обнаружив такую группу, в которой список (элемент с индексом 1) содержит более 50 значений, функция возвращает имя группы (значение элемента с индексом 0)."
   ]
  },
  {
   "cell_type": "code",
   "execution_count": 54,
   "metadata": {},
   "outputs": [],
   "source": [
    "def user_genres(group):\n",
    "    for col in group:\n",
    "        if len(col[1]) > 50:\n",
    "            user = col[0]\n",
    "            return user"
   ]
  },
  {
   "cell_type": "markdown",
   "metadata": {},
   "source": [
    "Вызовите функцию user_genres, как аргумент передайте ей genre_grouping. Результат – user_id одного из неведомых нам любителей музыки – сохраните в переменной `search_id` и выведите значение на экран."
   ]
  },
  {
   "cell_type": "code",
   "execution_count": 55,
   "metadata": {},
   "outputs": [
    {
     "name": "stdout",
     "output_type": "stream",
     "text": [
      "None\n"
     ]
    }
   ],
   "source": [
    "search_id = user_genres(genre_grouping)\n",
    "print(search_id)"
   ]
  },
  {
   "cell_type": "markdown",
   "metadata": {},
   "source": []
  }
 ],
 "metadata": {
  "kernelspec": {
   "display_name": "Python 3",
   "language": "python",
   "name": "python3"
  },
  "language_info": {
   "codemirror_mode": {
    "name": "ipython",
    "version": 3
   },
   "file_extension": ".py",
   "mimetype": "text/x-python",
   "name": "python",
   "nbconvert_exporter": "python",
   "pygments_lexer": "ipython3",
   "version": "3.8.5"
  }
 },
 "nbformat": 4,
 "nbformat_minor": 4
}
